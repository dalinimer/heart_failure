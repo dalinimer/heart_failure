{
 "cells": [
  {
   "cell_type": "code",
   "execution_count": 11,
   "metadata": {},
   "outputs": [],
   "source": [
    "import csv\n",
    "import  numpy as np\n",
    "from io import StringIO\n",
    "import tensorflow as tf\n",
    "from tensorflow import keras\n",
    "import kerastuner\n",
    "from kerastuner.tuners import RandomSearch\n",
    "\n",
    "X_1=np.loadtxt('heart_failure_clinical_records_dataset.csv',delimiter=',',dtype= None, skiprows=1)"
   ]
  },
  {
   "cell_type": "code",
   "execution_count": 13,
   "metadata": {},
   "outputs": [],
   "source": [
    "X_2=X_1=np.loadtxt('heart_failure_clinical_records_dataset 2.csv',delimiter=',',dtype= None, skiprows=1)"
   ]
  },
  {
   "cell_type": "code",
   "execution_count": 14,
   "metadata": {},
   "outputs": [
    {
     "name": "stdout",
     "output_type": "stream",
     "text": [
      "[[7.500e+01 0.000e+00 5.820e+02 ... 0.000e+00 4.000e+00 1.000e+00]\n",
      " [5.500e+01 0.000e+00 7.861e+03 ... 0.000e+00 6.000e+00 1.000e+00]\n",
      " [6.500e+01 0.000e+00 1.460e+02 ... 1.000e+00 7.000e+00 1.000e+00]\n",
      " ...\n",
      " [4.500e+01 0.000e+00 2.060e+03 ... 0.000e+00 2.780e+02 0.000e+00]\n",
      " [4.500e+01 0.000e+00 2.413e+03 ... 1.000e+00 2.800e+02 0.000e+00]\n",
      " [5.000e+01 0.000e+00 1.960e+02 ... 1.000e+00 2.850e+02 0.000e+00]]\n"
     ]
    }
   ],
   "source": [
    "print(X_1)"
   ]
  },
  {
   "cell_type": "code",
   "execution_count": 15,
   "metadata": {},
   "outputs": [],
   "source": [
    "XX=np.concatenate((X_1,X_2))"
   ]
  },
  {
   "cell_type": "code",
   "execution_count": 16,
   "metadata": {},
   "outputs": [
    {
     "name": "stdout",
     "output_type": "stream",
     "text": [
      "[[7.500e+01 0.000e+00 5.820e+02 ... 0.000e+00 4.000e+00 1.000e+00]\n",
      " [5.500e+01 0.000e+00 7.861e+03 ... 0.000e+00 6.000e+00 1.000e+00]\n",
      " [6.500e+01 0.000e+00 1.460e+02 ... 1.000e+00 7.000e+00 1.000e+00]\n",
      " ...\n",
      " [4.500e+01 0.000e+00 2.060e+03 ... 0.000e+00 2.780e+02 0.000e+00]\n",
      " [4.500e+01 0.000e+00 2.413e+03 ... 1.000e+00 2.800e+02 0.000e+00]\n",
      " [5.000e+01 0.000e+00 1.960e+02 ... 1.000e+00 2.850e+02 0.000e+00]]\n"
     ]
    }
   ],
   "source": []
  },
  {
   "cell_type": "code",
   "execution_count": 70,
   "metadata": {},
   "outputs": [],
   "source": [
    "X_train_pre_processed=XX[:,:-1]\n",
    "Y_train_pre_processed=np.transpose(XX[:,-1]).reshape((598,1))\n",
    "means=np.mean(X_train_pre_processed,axis=0)\n",
    "std=np.std(X_train_pre_processed,axis=0)\n",
    "X_train_pre_processed=(X_train_pre_processed-means)/std\n",
    "newmeans=np.mean(X_train_pre_processed,axis=0)\n",
    "newstd=np.std(X_train_pre_processed,axis=0)\n"
   ]
  },
  {
   "cell_type": "code",
   "execution_count": 71,
   "metadata": {},
   "outputs": [
    {
     "name": "stdout",
     "output_type": "stream",
     "text": [
      "(598, 12)\n",
      "(598, 1)\n"
     ]
    }
   ],
   "source": [
    "print(X_train_pre_processed.shape)\n",
    "print(Y_train_pre_processed.shape)"
   ]
  },
  {
   "cell_type": "code",
   "execution_count": 72,
   "metadata": {},
   "outputs": [],
   "source": [
    "np.random.seed(1)\n",
    "np.random.shuffle(X_train_pre_processed)\n",
    "np.random.shuffle(Y_train_pre_processed)\n",
    "\n",
    "\n"
   ]
  },
  {
   "cell_type": "code",
   "execution_count": 73,
   "metadata": {},
   "outputs": [],
   "source": [
    "X_train=X_train_pre_processed[0:(int)(0.7*X_train_pre_processed.shape[0])]\n",
    "y_train=Y_train_pre_processed[0:(int)(0.7*X_train_pre_processed.shape[0])]\n",
    "X_valid=X_train_pre_processed[(int)(0.7*X_train_pre_processed.shape[0]):(int)(0.7*X_train_pre_processed.shape[0]+0.15*X_train_pre_processed.shape[0])]\n",
    "y_valid=Y_train_pre_processed[(int)(0.7*X_train_pre_processed.shape[0]):(int)(0.7*X_train_pre_processed.shape[0]+0.15*X_train_pre_processed.shape[0])]\n",
    "X_test=X_train_pre_processed[(int)(0.7*X_train_pre_processed.shape[0]+0.15*X_train_pre_processed.shape[0]):]\n",
    "y_test=Y_train_pre_processed[(int)(0.7*X_train_pre_processed.shape[0]+0.15*X_train_pre_processed.shape[0]):]"
   ]
  },
  {
   "cell_type": "code",
   "execution_count": 74,
   "metadata": {},
   "outputs": [
    {
     "name": "stdout",
     "output_type": "stream",
     "text": [
      "(418, 12)\n",
      "(90, 12)\n",
      "(90, 12)\n"
     ]
    }
   ],
   "source": [
    "print(X_train.shape)\n",
    "print(X_valid.shape)\n",
    "print(X_test.shape)"
   ]
  },
  {
   "cell_type": "code",
   "execution_count": 84,
   "metadata": {},
   "outputs": [
    {
     "name": "stdout",
     "output_type": "stream",
     "text": [
      "Trial 5 Complete [00h 00m 03s]\n",
      "val_accuracy: 0.6703703800837199\n",
      "\n",
      "Best val_accuracy So Far: 0.6814814805984497\n",
      "Total elapsed time: 00h 00m 16s\n",
      "INFO:tensorflow:Oracle triggered exit\n"
     ]
    }
   ],
   "source": [
    "def build_model(hp):\n",
    "    model=tf.keras.Sequential()\n",
    "    n_layers_range=hp.Int('num_layers',2,15)\n",
    "    n_units_range=hp.Int('units',min_value=32,max_value=100,step=10)\n",
    "    drop_out_rate_range=hp.Float('dropout',min_value=0.2,max_value=0.5,sampling='LOG',default=1e-3)\n",
    "    for i in range(n_layers_range):\n",
    "        model.add(tf.keras.layers.Dropout(drop_out_rate_range))\n",
    "        model.add(tf.keras.layers.Dense(n_units_range,activation=\"relu\",kernel_initializer=\"he_normal\"))\n",
    "    model.add(tf.keras.layers.Dense(1,activation=\"sigmoid\"))\n",
    "    lr_range=hp.Float('learning_rate',min_value=1e-4,max_value=1e-2,sampling='LOG',default=1e-3)\n",
    "    optimizer=tf.keras.optimizers.Adam(lr_range)\n",
    "    model.compile(optimizer=optimizer,loss=\"binary_crossentropy\",metrics=[\"accuracy\"])\n",
    "    return model\n",
    "tuner=RandomSearch(build_model,objective=\"val_accuracy\",max_trials=5,executions_per_trial=3,project_name=\"heart_failure_normal_dropout_rate_range\")\n",
    "tuner.search(X_train,y_train,epochs=10,validation_data=(X_valid,y_valid))\n",
    "    "
   ]
  },
  {
   "cell_type": "code",
   "execution_count": 80,
   "metadata": {},
   "outputs": [
    {
     "name": "stdout",
     "output_type": "stream",
     "text": [
      "WARNING:tensorflow:Unresolved object in checkpoint: (root).layer_with_weights-0._inbound_nodes\n",
      "WARNING:tensorflow:Unresolved object in checkpoint: (root).layer_with_weights-0.kernel\n",
      "WARNING:tensorflow:Unresolved object in checkpoint: (root).layer_with_weights-0.bias\n",
      "WARNING:tensorflow:Unresolved object in checkpoint: (root).layer_with_weights-1._inbound_nodes\n",
      "WARNING:tensorflow:Unresolved object in checkpoint: (root).layer_with_weights-1.kernel\n",
      "WARNING:tensorflow:Unresolved object in checkpoint: (root).layer_with_weights-1.bias\n",
      "WARNING:tensorflow:Unresolved object in checkpoint: (root).layer_with_weights-2._inbound_nodes\n",
      "WARNING:tensorflow:Unresolved object in checkpoint: (root).layer_with_weights-2.kernel\n",
      "WARNING:tensorflow:Unresolved object in checkpoint: (root).layer_with_weights-2.bias\n",
      "WARNING:tensorflow:Unresolved object in checkpoint: (root).layer_with_weights-3._inbound_nodes\n",
      "WARNING:tensorflow:Unresolved object in checkpoint: (root).layer_with_weights-3.kernel\n",
      "WARNING:tensorflow:Unresolved object in checkpoint: (root).layer_with_weights-3.bias\n",
      "WARNING:tensorflow:Unresolved object in checkpoint: (root).layer_with_weights-4._inbound_nodes\n",
      "WARNING:tensorflow:Unresolved object in checkpoint: (root).layer_with_weights-4.kernel\n",
      "WARNING:tensorflow:Unresolved object in checkpoint: (root).layer_with_weights-4.bias\n",
      "WARNING:tensorflow:Unresolved object in checkpoint: (root).layer_with_weights-5._inbound_nodes\n",
      "WARNING:tensorflow:Unresolved object in checkpoint: (root).layer_with_weights-5.kernel\n",
      "WARNING:tensorflow:Unresolved object in checkpoint: (root).layer_with_weights-5.bias\n",
      "WARNING:tensorflow:Unresolved object in checkpoint: (root).layer_with_weights-6._inbound_nodes\n",
      "WARNING:tensorflow:Unresolved object in checkpoint: (root).layer_with_weights-6.kernel\n",
      "WARNING:tensorflow:Unresolved object in checkpoint: (root).layer_with_weights-6.bias\n",
      "WARNING:tensorflow:Unresolved object in checkpoint: (root).layer_with_weights-7._inbound_nodes\n",
      "WARNING:tensorflow:Unresolved object in checkpoint: (root).layer_with_weights-7.kernel\n",
      "WARNING:tensorflow:Unresolved object in checkpoint: (root).layer_with_weights-7.bias\n",
      "WARNING:tensorflow:Unresolved object in checkpoint: (root).layer_with_weights-8._inbound_nodes\n",
      "WARNING:tensorflow:Unresolved object in checkpoint: (root).layer_with_weights-8.kernel\n",
      "WARNING:tensorflow:Unresolved object in checkpoint: (root).layer_with_weights-8.bias\n",
      "WARNING:tensorflow:Unresolved object in checkpoint: (root).optimizer.iter\n",
      "WARNING:tensorflow:Unresolved object in checkpoint: (root).optimizer.beta_1\n",
      "WARNING:tensorflow:Unresolved object in checkpoint: (root).optimizer.beta_2\n",
      "WARNING:tensorflow:Unresolved object in checkpoint: (root).optimizer.decay\n",
      "WARNING:tensorflow:Unresolved object in checkpoint: (root).optimizer.learning_rate\n",
      "WARNING:tensorflow:Unresolved object in checkpoint: (root).optimizer's state 'm' for (root).layer_with_weights-0.kernel\n",
      "WARNING:tensorflow:Unresolved object in checkpoint: (root).optimizer's state 'm' for (root).layer_with_weights-0.bias\n",
      "WARNING:tensorflow:Unresolved object in checkpoint: (root).optimizer's state 'm' for (root).layer_with_weights-1.kernel\n",
      "WARNING:tensorflow:Unresolved object in checkpoint: (root).optimizer's state 'm' for (root).layer_with_weights-1.bias\n",
      "WARNING:tensorflow:Unresolved object in checkpoint: (root).optimizer's state 'm' for (root).layer_with_weights-2.kernel\n",
      "WARNING:tensorflow:Unresolved object in checkpoint: (root).optimizer's state 'm' for (root).layer_with_weights-2.bias\n",
      "WARNING:tensorflow:Unresolved object in checkpoint: (root).optimizer's state 'm' for (root).layer_with_weights-3.kernel\n",
      "WARNING:tensorflow:Unresolved object in checkpoint: (root).optimizer's state 'm' for (root).layer_with_weights-3.bias\n",
      "WARNING:tensorflow:Unresolved object in checkpoint: (root).optimizer's state 'm' for (root).layer_with_weights-4.kernel\n",
      "WARNING:tensorflow:Unresolved object in checkpoint: (root).optimizer's state 'm' for (root).layer_with_weights-4.bias\n",
      "WARNING:tensorflow:Unresolved object in checkpoint: (root).optimizer's state 'm' for (root).layer_with_weights-5.kernel\n",
      "WARNING:tensorflow:Unresolved object in checkpoint: (root).optimizer's state 'm' for (root).layer_with_weights-5.bias\n",
      "WARNING:tensorflow:Unresolved object in checkpoint: (root).optimizer's state 'm' for (root).layer_with_weights-6.kernel\n",
      "WARNING:tensorflow:Unresolved object in checkpoint: (root).optimizer's state 'm' for (root).layer_with_weights-6.bias\n",
      "WARNING:tensorflow:Unresolved object in checkpoint: (root).optimizer's state 'm' for (root).layer_with_weights-7.kernel\n",
      "WARNING:tensorflow:Unresolved object in checkpoint: (root).optimizer's state 'm' for (root).layer_with_weights-7.bias\n",
      "WARNING:tensorflow:Unresolved object in checkpoint: (root).optimizer's state 'm' for (root).layer_with_weights-8.kernel\n",
      "WARNING:tensorflow:Unresolved object in checkpoint: (root).optimizer's state 'm' for (root).layer_with_weights-8.bias\n",
      "WARNING:tensorflow:Unresolved object in checkpoint: (root).optimizer's state 'v' for (root).layer_with_weights-0.kernel\n",
      "WARNING:tensorflow:Unresolved object in checkpoint: (root).optimizer's state 'v' for (root).layer_with_weights-0.bias\n",
      "WARNING:tensorflow:Unresolved object in checkpoint: (root).optimizer's state 'v' for (root).layer_with_weights-1.kernel\n",
      "WARNING:tensorflow:Unresolved object in checkpoint: (root).optimizer's state 'v' for (root).layer_with_weights-1.bias\n",
      "WARNING:tensorflow:Unresolved object in checkpoint: (root).optimizer's state 'v' for (root).layer_with_weights-2.kernel\n",
      "WARNING:tensorflow:Unresolved object in checkpoint: (root).optimizer's state 'v' for (root).layer_with_weights-2.bias\n",
      "WARNING:tensorflow:Unresolved object in checkpoint: (root).optimizer's state 'v' for (root).layer_with_weights-3.kernel\n",
      "WARNING:tensorflow:Unresolved object in checkpoint: (root).optimizer's state 'v' for (root).layer_with_weights-3.bias\n",
      "WARNING:tensorflow:Unresolved object in checkpoint: (root).optimizer's state 'v' for (root).layer_with_weights-4.kernel\n",
      "WARNING:tensorflow:Unresolved object in checkpoint: (root).optimizer's state 'v' for (root).layer_with_weights-4.bias\n",
      "WARNING:tensorflow:Unresolved object in checkpoint: (root).optimizer's state 'v' for (root).layer_with_weights-5.kernel\n",
      "WARNING:tensorflow:Unresolved object in checkpoint: (root).optimizer's state 'v' for (root).layer_with_weights-5.bias\n",
      "WARNING:tensorflow:Unresolved object in checkpoint: (root).optimizer's state 'v' for (root).layer_with_weights-6.kernel\n",
      "WARNING:tensorflow:Unresolved object in checkpoint: (root).optimizer's state 'v' for (root).layer_with_weights-6.bias\n",
      "WARNING:tensorflow:Unresolved object in checkpoint: (root).optimizer's state 'v' for (root).layer_with_weights-7.kernel\n",
      "WARNING:tensorflow:Unresolved object in checkpoint: (root).optimizer's state 'v' for (root).layer_with_weights-7.bias\n",
      "WARNING:tensorflow:Unresolved object in checkpoint: (root).optimizer's state 'v' for (root).layer_with_weights-8.kernel\n",
      "WARNING:tensorflow:Unresolved object in checkpoint: (root).optimizer's state 'v' for (root).layer_with_weights-8.bias\n",
      "WARNING:tensorflow:A checkpoint was restored (e.g. tf.train.Checkpoint.restore or tf.keras.Model.load_weights) but not all checkpointed values were used. See above for specific issues. Use expect_partial() on the load status object, e.g. tf.train.Checkpoint.restore(...).expect_partial(), to silence these warnings, or use assert_consumed() to make the check explicit. See https://www.tensorflow.org/guide/checkpoint#loading_mechanics for details.\n",
      "Epoch 1/100\n",
      "14/14 [==============================] - 0s 10ms/step - loss: 0.5497 - accuracy: 0.6986 - val_loss: 0.6773 - val_accuracy: 0.6889\n",
      "Epoch 2/100\n",
      "14/14 [==============================] - 0s 2ms/step - loss: 0.5377 - accuracy: 0.7177 - val_loss: 0.6769 - val_accuracy: 0.6889\n",
      "Epoch 3/100\n",
      "14/14 [==============================] - 0s 2ms/step - loss: 0.5299 - accuracy: 0.7440 - val_loss: 0.6837 - val_accuracy: 0.6778\n",
      "Epoch 4/100\n",
      "14/14 [==============================] - 0s 2ms/step - loss: 0.5216 - accuracy: 0.7153 - val_loss: 0.6989 - val_accuracy: 0.7000\n",
      "Epoch 5/100\n",
      "14/14 [==============================] - 0s 2ms/step - loss: 0.5128 - accuracy: 0.7488 - val_loss: 0.7085 - val_accuracy: 0.6778\n"
     ]
    },
    {
     "name": "stdout",
     "output_type": "stream",
     "text": [
      "Epoch 6/100\n",
      "14/14 [==============================] - 0s 2ms/step - loss: 0.5042 - accuracy: 0.7321 - val_loss: 0.7243 - val_accuracy: 0.7000\n",
      "Epoch 7/100\n",
      "14/14 [==============================] - 0s 2ms/step - loss: 0.4913 - accuracy: 0.7440 - val_loss: 0.7279 - val_accuracy: 0.6889\n",
      "Epoch 8/100\n",
      "14/14 [==============================] - 0s 2ms/step - loss: 0.4875 - accuracy: 0.8062 - val_loss: 0.7348 - val_accuracy: 0.7000\n",
      "Epoch 9/100\n",
      "14/14 [==============================] - 0s 2ms/step - loss: 0.4761 - accuracy: 0.7632 - val_loss: 0.7668 - val_accuracy: 0.7222\n",
      "Epoch 10/100\n",
      "14/14 [==============================] - 0s 2ms/step - loss: 0.4691 - accuracy: 0.7775 - val_loss: 0.7660 - val_accuracy: 0.6778\n",
      "Epoch 11/100\n",
      "14/14 [==============================] - 0s 2ms/step - loss: 0.4565 - accuracy: 0.7799 - val_loss: 0.7882 - val_accuracy: 0.6889\n",
      "Epoch 12/100\n",
      "14/14 [==============================] - 0s 2ms/step - loss: 0.4530 - accuracy: 0.7919 - val_loss: 0.8019 - val_accuracy: 0.6556\n",
      "Epoch 13/100\n",
      "14/14 [==============================] - 0s 2ms/step - loss: 0.4410 - accuracy: 0.8014 - val_loss: 0.8218 - val_accuracy: 0.6889\n",
      "Epoch 14/100\n",
      "14/14 [==============================] - 0s 2ms/step - loss: 0.4309 - accuracy: 0.8038 - val_loss: 0.8189 - val_accuracy: 0.6667\n",
      "Epoch 15/100\n",
      "14/14 [==============================] - 0s 2ms/step - loss: 0.4193 - accuracy: 0.8134 - val_loss: 0.8302 - val_accuracy: 0.6444\n",
      "Epoch 16/100\n",
      "14/14 [==============================] - 0s 2ms/step - loss: 0.4098 - accuracy: 0.8182 - val_loss: 0.8322 - val_accuracy: 0.6444\n",
      "Epoch 17/100\n",
      "14/14 [==============================] - 0s 2ms/step - loss: 0.4050 - accuracy: 0.8086 - val_loss: 0.8623 - val_accuracy: 0.6333\n",
      "Epoch 18/100\n",
      "14/14 [==============================] - 0s 2ms/step - loss: 0.4092 - accuracy: 0.8110 - val_loss: 0.8496 - val_accuracy: 0.6333\n",
      "Epoch 19/100\n",
      "14/14 [==============================] - 0s 2ms/step - loss: 0.3971 - accuracy: 0.8110 - val_loss: 0.8827 - val_accuracy: 0.6333\n",
      "Epoch 20/100\n",
      "14/14 [==============================] - 0s 2ms/step - loss: 0.3837 - accuracy: 0.8206 - val_loss: 0.9139 - val_accuracy: 0.6444\n",
      "Epoch 21/100\n",
      "14/14 [==============================] - 0s 2ms/step - loss: 0.3798 - accuracy: 0.8038 - val_loss: 0.9412 - val_accuracy: 0.6111\n",
      "Epoch 22/100\n",
      "14/14 [==============================] - 0s 2ms/step - loss: 0.3712 - accuracy: 0.8206 - val_loss: 0.9624 - val_accuracy: 0.6000\n",
      "Epoch 23/100\n",
      "14/14 [==============================] - 0s 2ms/step - loss: 0.3591 - accuracy: 0.8254 - val_loss: 0.9754 - val_accuracy: 0.6333\n",
      "Epoch 24/100\n",
      "14/14 [==============================] - 0s 2ms/step - loss: 0.3529 - accuracy: 0.8158 - val_loss: 0.9888 - val_accuracy: 0.5778\n",
      "Epoch 25/100\n",
      "14/14 [==============================] - 0s 2ms/step - loss: 0.3721 - accuracy: 0.8373 - val_loss: 0.9872 - val_accuracy: 0.6222\n",
      "Epoch 26/100\n",
      "14/14 [==============================] - 0s 2ms/step - loss: 0.3574 - accuracy: 0.8421 - val_loss: 1.0158 - val_accuracy: 0.5556\n",
      "Epoch 27/100\n",
      "14/14 [==============================] - 0s 2ms/step - loss: 0.3439 - accuracy: 0.8325 - val_loss: 1.0546 - val_accuracy: 0.5778\n",
      "Epoch 28/100\n",
      "14/14 [==============================] - 0s 2ms/step - loss: 0.3314 - accuracy: 0.8254 - val_loss: 1.0766 - val_accuracy: 0.5889\n",
      "Epoch 29/100\n",
      "14/14 [==============================] - 0s 2ms/step - loss: 0.3243 - accuracy: 0.8349 - val_loss: 1.0830 - val_accuracy: 0.5667\n",
      "Epoch 30/100\n",
      "14/14 [==============================] - 0s 2ms/step - loss: 0.3452 - accuracy: 0.8493 - val_loss: 0.9899 - val_accuracy: 0.6000\n",
      "Epoch 31/100\n",
      "14/14 [==============================] - 0s 2ms/step - loss: 0.3336 - accuracy: 0.8254 - val_loss: 1.0006 - val_accuracy: 0.5667\n",
      "Epoch 32/100\n",
      "14/14 [==============================] - 0s 2ms/step - loss: 0.3235 - accuracy: 0.8206 - val_loss: 1.0480 - val_accuracy: 0.5444\n",
      "Epoch 33/100\n",
      "14/14 [==============================] - 0s 2ms/step - loss: 0.3187 - accuracy: 0.8301 - val_loss: 1.0846 - val_accuracy: 0.5889\n",
      "Epoch 34/100\n",
      "14/14 [==============================] - 0s 2ms/step - loss: 0.3112 - accuracy: 0.8373 - val_loss: 1.1112 - val_accuracy: 0.5667\n",
      "Epoch 35/100\n",
      "14/14 [==============================] - 0s 2ms/step - loss: 0.3287 - accuracy: 0.8493 - val_loss: 1.1348 - val_accuracy: 0.5667\n",
      "Epoch 36/100\n",
      "14/14 [==============================] - 0s 2ms/step - loss: 0.3242 - accuracy: 0.8325 - val_loss: 1.1418 - val_accuracy: 0.5889\n",
      "Epoch 37/100\n",
      "14/14 [==============================] - 0s 2ms/step - loss: 0.3052 - accuracy: 0.8349 - val_loss: 1.1242 - val_accuracy: 0.5778\n",
      "Epoch 38/100\n",
      "14/14 [==============================] - 0s 2ms/step - loss: 0.2991 - accuracy: 0.8421 - val_loss: 1.1431 - val_accuracy: 0.5667\n",
      "Epoch 39/100\n",
      "14/14 [==============================] - 0s 2ms/step - loss: 0.2897 - accuracy: 0.8254 - val_loss: 1.2097 - val_accuracy: 0.5556\n",
      "Epoch 40/100\n",
      "14/14 [==============================] - 0s 2ms/step - loss: 0.2880 - accuracy: 0.8421 - val_loss: 1.2060 - val_accuracy: 0.5556\n",
      "Epoch 41/100\n",
      "14/14 [==============================] - 0s 2ms/step - loss: 0.2815 - accuracy: 0.8325 - val_loss: 1.2487 - val_accuracy: 0.5556\n",
      "Epoch 42/100\n",
      "14/14 [==============================] - 0s 2ms/step - loss: 0.2867 - accuracy: 0.8421 - val_loss: 1.2678 - val_accuracy: 0.5444\n",
      "Epoch 43/100\n",
      "14/14 [==============================] - 0s 2ms/step - loss: 0.2794 - accuracy: 0.8421 - val_loss: 1.3174 - val_accuracy: 0.5556\n",
      "Epoch 44/100\n",
      "14/14 [==============================] - 0s 2ms/step - loss: 0.2778 - accuracy: 0.8469 - val_loss: 1.3188 - val_accuracy: 0.5556\n",
      "Epoch 45/100\n",
      "14/14 [==============================] - 0s 2ms/step - loss: 0.2915 - accuracy: 0.8325 - val_loss: 1.3490 - val_accuracy: 0.5667\n",
      "Epoch 46/100\n",
      "14/14 [==============================] - 0s 2ms/step - loss: 0.3000 - accuracy: 0.8397 - val_loss: 1.3848 - val_accuracy: 0.5556\n",
      "Epoch 47/100\n",
      "14/14 [==============================] - 0s 2ms/step - loss: 0.2797 - accuracy: 0.8421 - val_loss: 1.3455 - val_accuracy: 0.5333\n",
      "Epoch 48/100\n",
      "14/14 [==============================] - 0s 2ms/step - loss: 0.2912 - accuracy: 0.8349 - val_loss: 1.2981 - val_accuracy: 0.5333\n",
      "Epoch 49/100\n",
      "14/14 [==============================] - 0s 2ms/step - loss: 0.2719 - accuracy: 0.8301 - val_loss: 1.3195 - val_accuracy: 0.5444\n",
      "Epoch 50/100\n",
      "14/14 [==============================] - 0s 2ms/step - loss: 0.2611 - accuracy: 0.8373 - val_loss: 1.3545 - val_accuracy: 0.5333\n",
      "Epoch 51/100\n",
      "14/14 [==============================] - 0s 2ms/step - loss: 0.2702 - accuracy: 0.8301 - val_loss: 1.3859 - val_accuracy: 0.5333\n",
      "Epoch 52/100\n",
      "14/14 [==============================] - 0s 2ms/step - loss: 0.2661 - accuracy: 0.8325 - val_loss: 1.4000 - val_accuracy: 0.5333\n",
      "Epoch 53/100\n",
      "14/14 [==============================] - 0s 2ms/step - loss: 0.2691 - accuracy: 0.8397 - val_loss: 1.3900 - val_accuracy: 0.5333\n",
      "Epoch 54/100\n",
      "14/14 [==============================] - 0s 2ms/step - loss: 0.2720 - accuracy: 0.8373 - val_loss: 1.3902 - val_accuracy: 0.5333\n",
      "Epoch 55/100\n",
      "14/14 [==============================] - 0s 2ms/step - loss: 0.2655 - accuracy: 0.8373 - val_loss: 1.4207 - val_accuracy: 0.5444\n",
      "Epoch 56/100\n",
      "14/14 [==============================] - 0s 2ms/step - loss: 0.2565 - accuracy: 0.8397 - val_loss: 1.4456 - val_accuracy: 0.5444\n",
      "Epoch 57/100\n",
      "14/14 [==============================] - 0s 2ms/step - loss: 0.2623 - accuracy: 0.8493 - val_loss: 1.4730 - val_accuracy: 0.5444\n",
      "Epoch 58/100\n",
      "14/14 [==============================] - 0s 2ms/step - loss: 0.2605 - accuracy: 0.8517 - val_loss: 1.5122 - val_accuracy: 0.5444\n",
      "Epoch 59/100\n",
      "14/14 [==============================] - 0s 2ms/step - loss: 0.2522 - accuracy: 0.8301 - val_loss: 1.5379 - val_accuracy: 0.5444\n",
      "Epoch 60/100\n",
      "14/14 [==============================] - 0s 2ms/step - loss: 0.2563 - accuracy: 0.8493 - val_loss: 1.5720 - val_accuracy: 0.5444\n",
      "Epoch 61/100\n",
      "14/14 [==============================] - 0s 2ms/step - loss: 0.2850 - accuracy: 0.8469 - val_loss: 1.5234 - val_accuracy: 0.5444\n",
      "Epoch 62/100\n",
      "14/14 [==============================] - 0s 2ms/step - loss: 0.2698 - accuracy: 0.8493 - val_loss: 1.5180 - val_accuracy: 0.5778\n",
      "Epoch 63/100\n",
      "14/14 [==============================] - 0s 2ms/step - loss: 0.2570 - accuracy: 0.8469 - val_loss: 1.5313 - val_accuracy: 0.5778\n"
     ]
    },
    {
     "name": "stdout",
     "output_type": "stream",
     "text": [
      "Epoch 64/100\n",
      "14/14 [==============================] - 0s 2ms/step - loss: 0.2684 - accuracy: 0.8517 - val_loss: 1.5237 - val_accuracy: 0.5556\n",
      "Epoch 65/100\n",
      "14/14 [==============================] - 0s 2ms/step - loss: 0.2530 - accuracy: 0.8349 - val_loss: 1.5696 - val_accuracy: 0.5556\n",
      "Epoch 66/100\n",
      "14/14 [==============================] - 0s 2ms/step - loss: 0.2596 - accuracy: 0.8469 - val_loss: 1.5655 - val_accuracy: 0.5556\n",
      "Epoch 67/100\n",
      "14/14 [==============================] - 0s 2ms/step - loss: 0.2520 - accuracy: 0.8421 - val_loss: 1.6116 - val_accuracy: 0.5556\n",
      "Epoch 68/100\n",
      "14/14 [==============================] - 0s 2ms/step - loss: 0.2453 - accuracy: 0.8517 - val_loss: 1.6244 - val_accuracy: 0.5556\n",
      "Epoch 69/100\n",
      "14/14 [==============================] - 0s 2ms/step - loss: 0.2443 - accuracy: 0.8397 - val_loss: 1.6378 - val_accuracy: 0.5556\n",
      "Epoch 70/100\n",
      "14/14 [==============================] - 0s 2ms/step - loss: 0.2429 - accuracy: 0.8373 - val_loss: 1.6465 - val_accuracy: 0.5556\n",
      "Epoch 71/100\n",
      "14/14 [==============================] - 0s 2ms/step - loss: 0.2475 - accuracy: 0.8301 - val_loss: 1.6818 - val_accuracy: 0.5444\n",
      "Epoch 72/100\n",
      "14/14 [==============================] - 0s 2ms/step - loss: 0.2569 - accuracy: 0.8469 - val_loss: 1.6692 - val_accuracy: 0.5556\n",
      "Epoch 73/100\n",
      "14/14 [==============================] - 0s 2ms/step - loss: 0.2481 - accuracy: 0.8445 - val_loss: 1.6946 - val_accuracy: 0.5556\n",
      "Epoch 74/100\n",
      "14/14 [==============================] - 0s 2ms/step - loss: 0.2563 - accuracy: 0.8421 - val_loss: 1.7158 - val_accuracy: 0.5556\n",
      "Epoch 75/100\n",
      "14/14 [==============================] - 0s 2ms/step - loss: 0.2415 - accuracy: 0.8493 - val_loss: 1.7487 - val_accuracy: 0.5556\n",
      "Epoch 76/100\n",
      "14/14 [==============================] - 0s 2ms/step - loss: 0.2373 - accuracy: 0.8397 - val_loss: 1.7373 - val_accuracy: 0.5556\n",
      "Epoch 77/100\n",
      "14/14 [==============================] - 0s 2ms/step - loss: 0.2630 - accuracy: 0.8421 - val_loss: 1.7597 - val_accuracy: 0.5556\n",
      "Epoch 78/100\n",
      "14/14 [==============================] - 0s 2ms/step - loss: 0.2523 - accuracy: 0.8565 - val_loss: 1.7304 - val_accuracy: 0.5556\n",
      "Epoch 79/100\n",
      "14/14 [==============================] - 0s 2ms/step - loss: 0.2649 - accuracy: 0.8349 - val_loss: 1.6695 - val_accuracy: 0.5333\n",
      "Epoch 80/100\n",
      "14/14 [==============================] - 0s 2ms/step - loss: 0.2434 - accuracy: 0.8636 - val_loss: 1.6958 - val_accuracy: 0.5444\n",
      "Epoch 81/100\n",
      "14/14 [==============================] - 0s 2ms/step - loss: 0.2494 - accuracy: 0.8493 - val_loss: 1.7289 - val_accuracy: 0.5556\n",
      "Epoch 82/100\n",
      "14/14 [==============================] - 0s 2ms/step - loss: 0.2424 - accuracy: 0.8373 - val_loss: 1.7440 - val_accuracy: 0.5556\n",
      "Epoch 83/100\n",
      "14/14 [==============================] - 0s 2ms/step - loss: 0.2391 - accuracy: 0.8254 - val_loss: 1.7446 - val_accuracy: 0.5556\n",
      "Epoch 84/100\n",
      "14/14 [==============================] - 0s 2ms/step - loss: 0.2382 - accuracy: 0.8349 - val_loss: 1.7975 - val_accuracy: 0.5556\n",
      "Epoch 85/100\n",
      "14/14 [==============================] - 0s 2ms/step - loss: 0.2461 - accuracy: 0.8445 - val_loss: 1.8055 - val_accuracy: 0.5556\n",
      "Epoch 86/100\n",
      "14/14 [==============================] - 0s 2ms/step - loss: 0.2364 - accuracy: 0.8349 - val_loss: 1.8099 - val_accuracy: 0.5556\n",
      "Epoch 87/100\n",
      "14/14 [==============================] - 0s 2ms/step - loss: 0.2329 - accuracy: 0.8445 - val_loss: 1.7979 - val_accuracy: 0.5556\n",
      "Epoch 88/100\n",
      "14/14 [==============================] - 0s 2ms/step - loss: 0.2362 - accuracy: 0.8301 - val_loss: 1.7620 - val_accuracy: 0.5444\n",
      "Epoch 89/100\n",
      "14/14 [==============================] - 0s 2ms/step - loss: 0.2378 - accuracy: 0.8421 - val_loss: 1.7907 - val_accuracy: 0.5444\n",
      "Epoch 90/100\n",
      "14/14 [==============================] - 0s 2ms/step - loss: 0.2414 - accuracy: 0.8421 - val_loss: 1.7829 - val_accuracy: 0.5444\n",
      "Epoch 91/100\n",
      "14/14 [==============================] - 0s 2ms/step - loss: 0.2340 - accuracy: 0.8493 - val_loss: 1.7867 - val_accuracy: 0.5444\n",
      "Epoch 92/100\n",
      "14/14 [==============================] - 0s 2ms/step - loss: 0.2439 - accuracy: 0.8421 - val_loss: 1.7759 - val_accuracy: 0.5444\n",
      "Epoch 93/100\n",
      "14/14 [==============================] - 0s 2ms/step - loss: 0.2356 - accuracy: 0.8397 - val_loss: 1.8163 - val_accuracy: 0.5556\n",
      "Epoch 94/100\n",
      "14/14 [==============================] - 0s 2ms/step - loss: 0.2502 - accuracy: 0.8373 - val_loss: 1.8225 - val_accuracy: 0.5556\n",
      "Epoch 95/100\n",
      "14/14 [==============================] - 0s 2ms/step - loss: 0.2400 - accuracy: 0.8397 - val_loss: 1.8127 - val_accuracy: 0.5667\n",
      "Epoch 96/100\n",
      "14/14 [==============================] - 0s 2ms/step - loss: 0.2500 - accuracy: 0.8445 - val_loss: 1.7925 - val_accuracy: 0.5667\n",
      "Epoch 97/100\n",
      "14/14 [==============================] - 0s 2ms/step - loss: 0.2501 - accuracy: 0.8445 - val_loss: 1.7623 - val_accuracy: 0.5556\n",
      "Epoch 98/100\n",
      "14/14 [==============================] - 0s 2ms/step - loss: 0.2442 - accuracy: 0.8517 - val_loss: 1.7619 - val_accuracy: 0.5444\n",
      "Epoch 99/100\n",
      "14/14 [==============================] - 0s 2ms/step - loss: 0.2456 - accuracy: 0.8445 - val_loss: 1.7542 - val_accuracy: 0.5444\n",
      "Epoch 100/100\n",
      "14/14 [==============================] - 0s 2ms/step - loss: 0.2360 - accuracy: 0.8445 - val_loss: 1.8028 - val_accuracy: 0.5556\n"
     ]
    },
    {
     "data": {
      "text/plain": [
       "<tensorflow.python.keras.callbacks.History at 0x7ff2cb2cba90>"
      ]
     },
     "execution_count": 80,
     "metadata": {},
     "output_type": "execute_result"
    }
   ],
   "source": [
    "best_model = tuner.get_best_models(num_models=1)\n",
    "best_model[0].fit(X_train,y_train,epochs=100,validation_data=(X_valid,y_valid))"
   ]
  },
  {
   "cell_type": "code",
   "execution_count": null,
   "metadata": {},
   "outputs": [],
   "source": []
  }
 ],
 "metadata": {
  "kernelspec": {
   "display_name": "Python 3",
   "language": "python",
   "name": "python3"
  },
  "language_info": {
   "codemirror_mode": {
    "name": "ipython",
    "version": 3
   },
   "file_extension": ".py",
   "mimetype": "text/x-python",
   "name": "python",
   "nbconvert_exporter": "python",
   "pygments_lexer": "ipython3",
   "version": "3.7.6"
  }
 },
 "nbformat": 4,
 "nbformat_minor": 4
}
